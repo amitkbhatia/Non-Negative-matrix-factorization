{
 "cells": [
  {
   "cell_type": "markdown",
   "metadata": {},
   "source": [
    "The below code gives various steps applied on a data set and use of NMF"
   ]
  },
  {
   "cell_type": "code",
   "execution_count": null,
   "metadata": {
    "collapsed": true
   },
   "outputs": [],
   "source": [
    "# Import NMF\n",
    "from sklearn.decomposition import NMF \n",
    " \n",
    "import pandas as pd\n",
    " \n",
    "# Create an NMF instance: model\n",
    "model = NMF(n_components=6)\n",
    " \n",
    "# Fit the model to articles\n",
    "model.fit(sample_data)\n",
    " \n",
    "# Transform the articles: nmf_features\n",
    "nmf_features = model.transform(sample_data)\n",
    " \n",
    "# Print the NMF features\n",
    "print(nmf_features)\n",
    " \n",
    "# Create a DataFrame: components_df\n",
    "components_df = pd.DataFrame(model.components_,columns=words)\n",
    " \n",
    "# Print the shape of the DataFrame\n",
    "print(components_df.shape)\n",
    " \n",
    "# Select row 3: component\n",
    "component = components_df.iloc[3]\n",
    " \n",
    "# Print result of nlargest\n",
    "print(component.nlargest())"
   ]
  },
  {
   "cell_type": "code",
   "execution_count": null,
   "metadata": {
    "collapsed": true
   },
   "outputs": [],
   "source": [
    "# Import NMF\n",
    "from sklearn.decomposition import NMF\n",
    " \n",
    "# Create an NMF model: model\n",
    "model = NMF(n_components=7)\n",
    " \n",
    "# Apply fit_transform to samples: features\n",
    "features = model.fit_transform(samples)\n",
    " \n",
    "# Call show_as_image on each component\n",
    "for component in model.components_:\n",
    "    show_as_image(component)\n",
    "\n",
    "# Select the 0th row of features: digit_features\n",
    "digit_features = features[0,:]\n",
    "\n",
    "# Print digit_features"
   ]
  },
  {
   "cell_type": "markdown",
   "metadata": {},
   "source": [
    "NMF can be used to build recommender system. For examples, we can compare two articles using recommender system as shown in the code below"
   ]
  },
  {
   "cell_type": "code",
   "execution_count": null,
   "metadata": {
    "collapsed": true
   },
   "outputs": [],
   "source": [
    "# Perform the necessary imports\n",
    "import pandas as pd\n",
    "from sklearn.preprocessing import normalize\n",
    " \n",
    "# Import NMF\n",
    "from sklearn.decomposition import NMF \n",
    " \n",
    "# Create an NMF instance: model\n",
    "model = NMF(n_components=6)\n",
    " \n",
    "# Fit the model to articles\n",
    "model.fit(articles)\n",
    " \n",
    "# Transform the articles: nmf_features\n",
    "nmf_features = model.transform(articles)\n",
    " \n",
    "# Normalize the NMF features: norm_features\n",
    "norm_features = normalize(nmf_features)\n",
    " \n",
    "# Create a DataFrame: df\n",
    "df = pd.DataFrame(norm_features, index=titles)\n",
    " \n",
    "# Select the row corresponding to 'abcde': article\n",
    "article = df.loc['abcde']\n",
    " \n",
    "# Compute the dot products: similarities\n",
    "similarities = df.dot(article)\n",
    " \n",
    "# Display those with the largest cosine similarity\n",
    "print(similarities.nlargest())"
   ]
  }
 ],
 "metadata": {
  "kernelspec": {
   "display_name": "Python 3",
   "language": "python",
   "name": "python3"
  },
  "language_info": {
   "codemirror_mode": {
    "name": "ipython",
    "version": 3
   },
   "file_extension": ".py",
   "mimetype": "text/x-python",
   "name": "python",
   "nbconvert_exporter": "python",
   "pygments_lexer": "ipython3",
   "version": "3.6.0"
  }
 },
 "nbformat": 4,
 "nbformat_minor": 2
}
